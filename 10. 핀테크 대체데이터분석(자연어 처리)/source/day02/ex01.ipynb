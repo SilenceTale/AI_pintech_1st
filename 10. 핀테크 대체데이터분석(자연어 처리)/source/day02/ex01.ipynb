{
 "cells": [
  {
   "cell_type": "code",
   "execution_count": 1,
   "id": "518a04da-167e-43fe-be83-efcf40075007",
   "metadata": {},
   "outputs": [],
   "source": [
    "from nltk.util import pad_sequence # 문장의 시작과 끝에 대한 토큰을 추가하는 편의기능을 가진 것이 pad_sequence이다. 하나의 문장을 단어로 나눈것이기도하다.\n",
    "from nltk.util import bigrams # bigrams는 a,b,c가 있다면 튜플로 [(a,b), (b,c)]로 토큰을 생성함.\n",
    "from nltk.util import ngrams  # ngrams는 n=x개만큼 데이터를 늘릴 수 있다.\n",
    "from nltk.util import everygrams # 모든 grams의 역할을 한다고 보는게 가장 쉽다. 세세한건 따로 수정하자."
   ]
  },
  {
   "cell_type": "code",
   "execution_count": 3,
   "id": "ca12d5ba-f7c1-4c74-8ceb-fa14148050e8",
   "metadata": {},
   "outputs": [
    {
     "data": {
      "text/plain": [
       "True"
      ]
     },
     "execution_count": 3,
     "metadata": {},
     "output_type": "execute_result"
    }
   ],
   "source": [
    "import nltk\n",
    "nltk.download(\"all\", quiet=True)"
   ]
  },
  {
   "cell_type": "code",
   "execution_count": 4,
   "id": "2bd5a2af-3063-45f6-80a4-1ba83f4ac859",
   "metadata": {},
   "outputs": [],
   "source": [
    "text = [['a','b','c'], ['a', 'c', 'd', 'c', 'e', 'f']]"
   ]
  },
  {
   "cell_type": "code",
   "execution_count": 6,
   "id": "5546e47a-a6aa-4d78-aca7-702d0b538d4f",
   "metadata": {},
   "outputs": [
    {
     "data": {
      "text/plain": [
       "[('a', 'b'), ('b', 'c')]"
      ]
     },
     "execution_count": 6,
     "metadata": {},
     "output_type": "execute_result"
    }
   ],
   "source": [
    "list(bigrams(text[0]))"
   ]
  },
  {
   "cell_type": "code",
   "execution_count": 7,
   "id": "5b3fa48e-698a-4d31-a7b2-55fa85328dcf",
   "metadata": {},
   "outputs": [
    {
     "data": {
      "text/plain": [
       "[('a', 'c'), ('c', 'd'), ('d', 'c'), ('c', 'e'), ('e', 'f')]"
      ]
     },
     "execution_count": 7,
     "metadata": {},
     "output_type": "execute_result"
    }
   ],
   "source": [
    "list(bigrams(text[1])) # [('a', 'c'), ('c', 'd'), ('d', 'c'), ('c', 'e'), ('e', 'f')] 점점 하나씩 교차해서 데이터가 늘어난다. bigrams는 1개씩 늘어난다."
   ]
  },
  {
   "cell_type": "code",
   "execution_count": 10,
   "id": "b9392a4d-a992-41aa-89b4-1d96b3bd508c",
   "metadata": {},
   "outputs": [
    {
     "data": {
      "text/plain": [
       "[('a', 'c', 'd'), ('c', 'd', 'c'), ('d', 'c', 'e'), ('c', 'e', 'f')]"
      ]
     },
     "execution_count": 10,
     "metadata": {},
     "output_type": "execute_result"
    }
   ],
   "source": [
    "list(ngrams(text[1], n=3)) # n=3 일경우 [('a', 'c', 'd'), ('c', 'd', 'c'), ('d', 'c', 'e'), ('c', 'e', 'f')] "
   ]
  },
  {
   "cell_type": "code",
   "execution_count": 11,
   "id": "07dadbe8-6ce4-49dc-ab33-518f82391fdd",
   "metadata": {},
   "outputs": [],
   "source": [
    "#list(everygrams(text[1], n=3))"
   ]
  },
  {
   "cell_type": "code",
   "execution_count": 14,
   "id": "3b73856c-0c65-4dc2-9a1d-8386871b6e86",
   "metadata": {},
   "outputs": [],
   "source": [
    "# 문장의 시작과 끝에 대한 토큰 추가 pad_sequence\n",
    "padded = list(pad_sequence(text[0], pad_left=True, left_pad_symbol=\"<s>\", pad_right=True, right_pad_symbol=\"</s>\", n=2))"
   ]
  },
  {
   "cell_type": "code",
   "execution_count": 15,
   "id": "fb655434-3ee7-465d-b497-2a1578b3e335",
   "metadata": {},
   "outputs": [
    {
     "data": {
      "text/plain": [
       "[('<s>', 'a'), ('a', 'b'), ('b', 'c'), ('c', '</s>')]"
      ]
     },
     "execution_count": 15,
     "metadata": {},
     "output_type": "execute_result"
    }
   ],
   "source": [
    "list(ngrams(padded, n=2))"
   ]
  },
  {
   "cell_type": "code",
   "execution_count": 16,
   "id": "65851a5a-8083-4f5b-9cc5-1f527abd540a",
   "metadata": {},
   "outputs": [],
   "source": [
    "padded = list(pad_sequence(text[1], pad_left=True, left_pad_symbol=\"<s>\", pad_right=True, right_pad_symbol=\"</s>\", n=2))"
   ]
  },
  {
   "cell_type": "code",
   "execution_count": 17,
   "id": "22e17d4f-f98f-490d-971e-071b34a12164",
   "metadata": {},
   "outputs": [
    {
     "data": {
      "text/plain": [
       "['<s>', 'a', 'c', 'd', 'c', 'e', 'f', '</s>']"
      ]
     },
     "execution_count": 17,
     "metadata": {},
     "output_type": "execute_result"
    }
   ],
   "source": [
    "padded"
   ]
  },
  {
   "cell_type": "code",
   "execution_count": 18,
   "id": "c26916bc-f8a9-44db-9678-4a3b866e511d",
   "metadata": {},
   "outputs": [
    {
     "data": {
      "text/plain": [
       "[('<s>',),\n",
       " ('<s>', 'a'),\n",
       " ('<s>', 'a', 'c'),\n",
       " ('a',),\n",
       " ('a', 'c'),\n",
       " ('a', 'c', 'd'),\n",
       " ('c',),\n",
       " ('c', 'd'),\n",
       " ('c', 'd', 'c'),\n",
       " ('d',),\n",
       " ('d', 'c'),\n",
       " ('d', 'c', 'e'),\n",
       " ('c',),\n",
       " ('c', 'e'),\n",
       " ('c', 'e', 'f'),\n",
       " ('e',),\n",
       " ('e', 'f'),\n",
       " ('e', 'f', '</s>'),\n",
       " ('f',),\n",
       " ('f', '</s>'),\n",
       " ('</s>',)]"
      ]
     },
     "execution_count": 18,
     "metadata": {},
     "output_type": "execute_result"
    }
   ],
   "source": [
    "list(everygrams(padded, max_len=3))"
   ]
  },
  {
   "cell_type": "code",
   "execution_count": 19,
   "id": "1d2892a4-7df3-47bd-b018-b4eb03eb87d1",
   "metadata": {},
   "outputs": [],
   "source": [
    "from nltk.lm.preprocessing import pad_both_ends"
   ]
  },
  {
   "cell_type": "code",
   "execution_count": 20,
   "id": "4562399d-1df5-498d-a094-e554a8610d49",
   "metadata": {},
   "outputs": [
    {
     "data": {
      "text/plain": [
       "['<s>', 'a', 'b', 'c', '</s>']"
      ]
     },
     "execution_count": 20,
     "metadata": {},
     "output_type": "execute_result"
    }
   ],
   "source": [
    "list(pad_both_ends(text[0], n=2))"
   ]
  },
  {
   "cell_type": "code",
   "execution_count": 21,
   "id": "2c8d7909-b4e0-40cc-a85d-e2ed16b91ac3",
   "metadata": {},
   "outputs": [
    {
     "data": {
      "text/plain": [
       "[['a', 'b', 'c'], ['a', 'c', 'd', 'c', 'e', 'f']]"
      ]
     },
     "execution_count": 21,
     "metadata": {},
     "output_type": "execute_result"
    }
   ],
   "source": [
    "text"
   ]
  },
  {
   "cell_type": "code",
   "execution_count": 22,
   "id": "64240886-05db-4f0b-bf9e-09729fef40de",
   "metadata": {},
   "outputs": [
    {
     "data": {
      "text/plain": [
       "[['<s>', 'a', 'b', 'c', '</s>'], ['<s>', 'a', 'c', 'd', 'c', 'e', 'f', '</s>']]"
      ]
     },
     "execution_count": 22,
     "metadata": {},
     "output_type": "execute_result"
    }
   ],
   "source": [
    "[list(pad_both_ends(sent, n=2)) for sent in text]"
   ]
  },
  {
   "cell_type": "code",
   "execution_count": 23,
   "id": "d3770300-e5eb-47ee-9c10-a76ff4fddb62",
   "metadata": {},
   "outputs": [],
   "source": [
    "from nltk.lm.preprocessing import flatten"
   ]
  },
  {
   "cell_type": "code",
   "execution_count": 24,
   "id": "1526d304-29c0-4914-9b02-89193714d58f",
   "metadata": {},
   "outputs": [
    {
     "data": {
      "text/plain": [
       "['<s>', 'a', 'b', 'c', '</s>', '<s>', 'a', 'c', 'd', 'c', 'e', 'f', '</s>']"
      ]
     },
     "execution_count": 24,
     "metadata": {},
     "output_type": "execute_result"
    }
   ],
   "source": [
    "list(flatten(pad_both_ends(sent, n=2) for sent in text))"
   ]
  },
  {
   "cell_type": "code",
   "execution_count": 25,
   "id": "7f51040f-def5-4e61-b5e0-1fcadba47137",
   "metadata": {},
   "outputs": [],
   "source": [
    "from nltk.lm.preprocessing import padded_everygram_pipeline"
   ]
  },
  {
   "cell_type": "code",
   "execution_count": 26,
   "id": "82e1027d-9ae8-4434-a932-f1b4ce935700",
   "metadata": {},
   "outputs": [],
   "source": [
    "training_ngrams, padded_sentences = padded_everygram_pipeline(2, text)"
   ]
  },
  {
   "cell_type": "code",
   "execution_count": 29,
   "id": "c33f74af-dc8e-47ea-85ba-5897d887781c",
   "metadata": {},
   "outputs": [
    {
     "data": {
      "text/plain": [
       "[<generator object everygrams at 0x0000016CAFD1FAB0>,\n",
       " <generator object everygrams at 0x0000016CAFD1EDF0>]"
      ]
     },
     "execution_count": 29,
     "metadata": {},
     "output_type": "execute_result"
    }
   ],
   "source": [
    "list(training_ngrams)"
   ]
  },
  {
   "cell_type": "code",
   "execution_count": 30,
   "id": "0bccfac5-f5be-480f-b2b1-adcfcee8a343",
   "metadata": {},
   "outputs": [
    {
     "data": {
      "text/plain": [
       "['<s>', 'a', 'b', 'c', '</s>', '<s>', 'a', 'c', 'd', 'c', 'e', 'f', '</s>']"
      ]
     },
     "execution_count": 30,
     "metadata": {},
     "output_type": "execute_result"
    }
   ],
   "source": [
    "list(padded_sentences)"
   ]
  }
 ],
 "metadata": {
  "kernelspec": {
   "display_name": "Python 3 (ipykernel)",
   "language": "python",
   "name": "python3"
  },
  "language_info": {
   "codemirror_mode": {
    "name": "ipython",
    "version": 3
   },
   "file_extension": ".py",
   "mimetype": "text/x-python",
   "name": "python",
   "nbconvert_exporter": "python",
   "pygments_lexer": "ipython3",
   "version": "3.12.7"
  }
 },
 "nbformat": 4,
 "nbformat_minor": 5
}
