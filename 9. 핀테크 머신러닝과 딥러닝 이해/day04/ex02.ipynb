{
 "cells": [
  {
   "cell_type": "code",
   "execution_count": 1,
   "id": "8a746750-42e1-4a34-8ac1-913373c89bde",
   "metadata": {},
   "outputs": [],
   "source": [
    "import numpy as np"
   ]
  },
  {
   "cell_type": "code",
   "execution_count": 3,
   "id": "3e893437-fc23-4fe7-9f2f-b12a76fb6e4d",
   "metadata": {},
   "outputs": [
    {
     "name": "stdout",
     "output_type": "stream",
     "text": [
      "['사과' '망고' '배']\n"
     ]
    }
   ],
   "source": [
    "fruits = np.array(['사과', '오렌지', '멜론', '망고', '배'])\n",
    "print(fruits[[True, False, False, True, True]]) # 특정 항목 데이터만 뽑아오는 것이 블리언 인덱싱(boolean indexing)이다."
   ]
  }
 ],
 "metadata": {
  "kernelspec": {
   "display_name": "Python 3 (ipykernel)",
   "language": "python",
   "name": "python3"
  },
  "language_info": {
   "codemirror_mode": {
    "name": "ipython",
    "version": 3
   },
   "file_extension": ".py",
   "mimetype": "text/x-python",
   "name": "python",
   "nbconvert_exporter": "python",
   "pygments_lexer": "ipython3",
   "version": "3.12.7"
  }
 },
 "nbformat": 4,
 "nbformat_minor": 5
}
